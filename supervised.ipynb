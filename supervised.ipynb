{
 "cells": [
  {
   "attachments": {},
   "cell_type": "markdown",
   "metadata": {},
   "source": [
    "# Init"
   ]
  },
  {
   "cell_type": "code",
   "execution_count": 1,
   "metadata": {},
   "outputs": [
    {
     "name": "stderr",
     "output_type": "stream",
     "text": [
      "2023-02-03 10:26:40.477354: I tensorflow/core/platform/cpu_feature_guard.cc:193] This TensorFlow binary is optimized with oneAPI Deep Neural Network Library (oneDNN) to use the following CPU instructions in performance-critical operations:  AVX2\n",
      "To enable them in other operations, rebuild TensorFlow with the appropriate compiler flags.\n",
      "2023-02-03 10:26:40.897803: W tensorflow/compiler/xla/stream_executor/platform/default/dso_loader.cc:64] Could not load dynamic library 'libcudart.so.11.0'; dlerror: libcudart.so.11.0: cannot open shared object file: No such file or directory\n",
      "2023-02-03 10:26:40.897851: I tensorflow/compiler/xla/stream_executor/cuda/cudart_stub.cc:29] Ignore above cudart dlerror if you do not have a GPU set up on your machine.\n",
      "2023-02-03 10:26:42.659541: W tensorflow/compiler/xla/stream_executor/platform/default/dso_loader.cc:64] Could not load dynamic library 'libnvinfer.so.7'; dlerror: libnvinfer.so.7: cannot open shared object file: No such file or directory\n",
      "2023-02-03 10:26:42.659797: W tensorflow/compiler/xla/stream_executor/platform/default/dso_loader.cc:64] Could not load dynamic library 'libnvinfer_plugin.so.7'; dlerror: libnvinfer_plugin.so.7: cannot open shared object file: No such file or directory\n",
      "2023-02-03 10:26:42.659807: W tensorflow/compiler/tf2tensorrt/utils/py_utils.cc:38] TF-TRT Warning: Cannot dlopen some TensorRT libraries. If you would like to use Nvidia GPU with TensorRT, please make sure the missing libraries mentioned above are installed properly.\n"
     ]
    }
   ],
   "source": [
    "%%capture\n",
    "import tensorflow as tf\n",
    "import tensorflow_addons as tfa\n",
    "import pandas as pd\n",
    "import re\n",
    "from unidecode import unidecode"
   ]
  },
  {
   "cell_type": "code",
   "execution_count": 2,
   "metadata": {},
   "outputs": [
    {
     "data": {
      "text/html": [
       "<div>\n",
       "<style scoped>\n",
       "    .dataframe tbody tr th:only-of-type {\n",
       "        vertical-align: middle;\n",
       "    }\n",
       "\n",
       "    .dataframe tbody tr th {\n",
       "        vertical-align: top;\n",
       "    }\n",
       "\n",
       "    .dataframe thead th {\n",
       "        text-align: right;\n",
       "    }\n",
       "</style>\n",
       "<table border=\"1\" class=\"dataframe\">\n",
       "  <thead>\n",
       "    <tr style=\"text-align: right;\">\n",
       "      <th></th>\n",
       "      <th>id</th>\n",
       "      <th>text</th>\n",
       "      <th>label</th>\n",
       "    </tr>\n",
       "  </thead>\n",
       "  <tbody>\n",
       "    <tr>\n",
       "      <th>0</th>\n",
       "      <td>32674</td>\n",
       "      <td>da de unde stii u mai [ORG] ca banii au fost p...</td>\n",
       "      <td>ABUSE</td>\n",
       "    </tr>\n",
       "    <tr>\n",
       "      <th>1</th>\n",
       "      <td>16514</td>\n",
       "      <td>m*uie [PERS] m*uie [PERS] ... m*uie\\nbai kakat...</td>\n",
       "      <td>INSULT</td>\n",
       "    </tr>\n",
       "    <tr>\n",
       "      <th>2</th>\n",
       "      <td>32556</td>\n",
       "      <td>PT ALA CARE ARE TREABA CU [PERS]!!ESTI UNUL CA...</td>\n",
       "      <td>OTHER</td>\n",
       "    </tr>\n",
       "    <tr>\n",
       "      <th>3</th>\n",
       "      <td>23861</td>\n",
       "      <td>sunt bucuros ca [PERS] nu a mai venit la [ORG]...</td>\n",
       "      <td>OTHER</td>\n",
       "    </tr>\n",
       "    <tr>\n",
       "      <th>4</th>\n",
       "      <td>21811</td>\n",
       "      <td>[PERS] esti....PE..N\\n ES..CU..LI..BI.L!!! te ...</td>\n",
       "      <td>INSULT</td>\n",
       "    </tr>\n",
       "  </tbody>\n",
       "</table>\n",
       "</div>"
      ],
      "text/plain": [
       "      id                                               text   label\n",
       "0  32674  da de unde stii u mai [ORG] ca banii au fost p...   ABUSE\n",
       "1  16514  m*uie [PERS] m*uie [PERS] ... m*uie\\nbai kakat...  INSULT\n",
       "2  32556  PT ALA CARE ARE TREABA CU [PERS]!!ESTI UNUL CA...   OTHER\n",
       "3  23861  sunt bucuros ca [PERS] nu a mai venit la [ORG]...   OTHER\n",
       "4  21811  [PERS] esti....PE..N\\n ES..CU..LI..BI.L!!! te ...  INSULT"
      ]
     },
     "execution_count": 2,
     "metadata": {},
     "output_type": "execute_result"
    }
   ],
   "source": [
    "data = pd.read_csv(\"train_ner.csv\")\n",
    "data.head()"
   ]
  },
  {
   "cell_type": "code",
   "execution_count": 3,
   "metadata": {},
   "outputs": [
    {
     "name": "stderr",
     "output_type": "stream",
     "text": [
      "2023-02-03 10:26:47.956492: W tensorflow/compiler/xla/stream_executor/platform/default/dso_loader.cc:64] Could not load dynamic library 'libcuda.so.1'; dlerror: libcuda.so.1: cannot open shared object file: No such file or directory\n",
      "2023-02-03 10:26:47.956907: W tensorflow/compiler/xla/stream_executor/cuda/cuda_driver.cc:265] failed call to cuInit: UNKNOWN ERROR (303)\n",
      "2023-02-03 10:26:47.956967: I tensorflow/compiler/xla/stream_executor/cuda/cuda_diagnostics.cc:156] kernel driver does not appear to be running on this host (andrei-VirtualBox): /proc/driver/nvidia/version does not exist\n"
     ]
    }
   ],
   "source": [
    "import spacy"
   ]
  },
  {
   "cell_type": "code",
   "execution_count": 4,
   "metadata": {},
   "outputs": [],
   "source": [
    "nlp = spacy.load('ro_core_news_lg')\n"
   ]
  },
  {
   "cell_type": "code",
   "execution_count": 5,
   "metadata": {},
   "outputs": [],
   "source": [
    "stops = nlp.Defaults.stop_words"
   ]
  },
  {
   "cell_type": "code",
   "execution_count": 6,
   "metadata": {},
   "outputs": [
    {
     "data": {
      "text/html": [
       "<div>\n",
       "<style scoped>\n",
       "    .dataframe tbody tr th:only-of-type {\n",
       "        vertical-align: middle;\n",
       "    }\n",
       "\n",
       "    .dataframe tbody tr th {\n",
       "        vertical-align: top;\n",
       "    }\n",
       "\n",
       "    .dataframe thead th {\n",
       "        text-align: right;\n",
       "    }\n",
       "</style>\n",
       "<table border=\"1\" class=\"dataframe\">\n",
       "  <thead>\n",
       "    <tr style=\"text-align: right;\">\n",
       "      <th></th>\n",
       "      <th>id</th>\n",
       "      <th>text</th>\n",
       "      <th>label</th>\n",
       "      <th>preprocessed</th>\n",
       "    </tr>\n",
       "  </thead>\n",
       "  <tbody>\n",
       "    <tr>\n",
       "      <th>0</th>\n",
       "      <td>32674</td>\n",
       "      <td>da de unde stii u mai [ORG] ca banii au fost p...</td>\n",
       "      <td>ABUSE</td>\n",
       "      <td>sti bani pt pt dulce scumpa bomboana adik pron...</td>\n",
       "    </tr>\n",
       "    <tr>\n",
       "      <th>1</th>\n",
       "      <td>16514</td>\n",
       "      <td>m*uie [PERS] m*uie [PERS] ... m*uie\\nbai kakat...</td>\n",
       "      <td>INSULT</td>\n",
       "      <td>muie muie muie bai kakatule stai banca arbitru...</td>\n",
       "    </tr>\n",
       "    <tr>\n",
       "      <th>2</th>\n",
       "      <td>32556</td>\n",
       "      <td>PT ALA CARE ARE TREABA CU [PERS]!!ESTI UNUL CA...</td>\n",
       "      <td>OTHER</td>\n",
       "      <td>pt treaba esti ide fotbal</td>\n",
       "    </tr>\n",
       "    <tr>\n",
       "      <th>3</th>\n",
       "      <td>23861</td>\n",
       "      <td>sunt bucuros ca [PERS] nu a mai venit la [ORG]...</td>\n",
       "      <td>OTHER</td>\n",
       "      <td>bucuros venit jucator duzina spere echipa nati...</td>\n",
       "    </tr>\n",
       "    <tr>\n",
       "      <th>4</th>\n",
       "      <td>21811</td>\n",
       "      <td>[PERS] esti....PE..N\\n ES..CU..LI..BI.L!!! te ...</td>\n",
       "      <td>INSULT</td>\n",
       "      <td>esti es bi asemeni chiajna parveniti fotbal g...</td>\n",
       "    </tr>\n",
       "  </tbody>\n",
       "</table>\n",
       "</div>"
      ],
      "text/plain": [
       "      id                                               text   label  \\\n",
       "0  32674  da de unde stii u mai [ORG] ca banii au fost p...   ABUSE   \n",
       "1  16514  m*uie [PERS] m*uie [PERS] ... m*uie\\nbai kakat...  INSULT   \n",
       "2  32556  PT ALA CARE ARE TREABA CU [PERS]!!ESTI UNUL CA...   OTHER   \n",
       "3  23861  sunt bucuros ca [PERS] nu a mai venit la [ORG]...   OTHER   \n",
       "4  21811  [PERS] esti....PE..N\\n ES..CU..LI..BI.L!!! te ...  INSULT   \n",
       "\n",
       "                                        preprocessed  \n",
       "0  sti bani pt pt dulce scumpa bomboana adik pron...  \n",
       "1  muie muie muie bai kakatule stai banca arbitru...  \n",
       "2                         pt treaba esti ide fotbal   \n",
       "3  bucuros venit jucator duzina spere echipa nati...  \n",
       "4   esti es bi asemeni chiajna parveniti fotbal g...  "
      ]
     },
     "execution_count": 6,
     "metadata": {},
     "output_type": "execute_result"
    }
   ],
   "source": [
    "def preprocess(x):\n",
    "    s = unidecode(x)\n",
    "    s = str.lower(s)\n",
    "    s = re.sub(r\"\\[[a-z]+\\]\",\"\", s)\n",
    "    s = re.sub(r\"\\*\",\"\", s)\n",
    "    s = re.sub(r\"[^a-zA-Z0-9]+\",\" \",s)\n",
    "    s = re.sub(r\" +\",\" \",s)\n",
    "    s = re.sub(r\"(.)\\1+\",r\"\\1\",s)\n",
    "    s = \" \".join([elem for elem in s.split(' ') if elem not in stops])\n",
    "    return s\n",
    "\n",
    "data[\"preprocessed\"] = data[\"text\"].map(preprocess)\n",
    "data.head(5)"
   ]
  },
  {
   "cell_type": "code",
   "execution_count": 7,
   "metadata": {},
   "outputs": [
    {
     "data": {
      "text/plain": [
       "{'ABUSE': 0, 'INSULT': 1, 'OTHER': 2, 'PROFANITY': 3}"
      ]
     },
     "execution_count": 7,
     "metadata": {},
     "output_type": "execute_result"
    }
   ],
   "source": [
    "label_ids = {label_name:i for i, label_name in enumerate(sorted(set(data[\"label\"])))}\n",
    "label_ids"
   ]
  },
  {
   "cell_type": "code",
   "execution_count": 8,
   "metadata": {},
   "outputs": [
    {
     "name": "stdout",
     "output_type": "stream",
     "text": [
      "27240\n"
     ]
    }
   ],
   "source": [
    "l = [elem.split(\" \") for elem in data[\"preprocessed\"].tolist()]\n",
    "s = set()\n",
    "for elem in l:\n",
    "    s = s|set(elem)\n",
    "print(len(s))"
   ]
  },
  {
   "cell_type": "code",
   "execution_count": 9,
   "metadata": {},
   "outputs": [
    {
     "data": {
      "text/html": [
       "<div>\n",
       "<style scoped>\n",
       "    .dataframe tbody tr th:only-of-type {\n",
       "        vertical-align: middle;\n",
       "    }\n",
       "\n",
       "    .dataframe tbody tr th {\n",
       "        vertical-align: top;\n",
       "    }\n",
       "\n",
       "    .dataframe thead th {\n",
       "        text-align: right;\n",
       "    }\n",
       "</style>\n",
       "<table border=\"1\" class=\"dataframe\">\n",
       "  <thead>\n",
       "    <tr style=\"text-align: right;\">\n",
       "      <th></th>\n",
       "      <th>id</th>\n",
       "      <th>text</th>\n",
       "      <th>label</th>\n",
       "      <th>preprocessed</th>\n",
       "      <th>class</th>\n",
       "    </tr>\n",
       "  </thead>\n",
       "  <tbody>\n",
       "    <tr>\n",
       "      <th>0</th>\n",
       "      <td>32674</td>\n",
       "      <td>da de unde stii u mai [ORG] ca banii au fost p...</td>\n",
       "      <td>ABUSE</td>\n",
       "      <td>sti bani pt pt dulce scumpa bomboana adik pron...</td>\n",
       "      <td>0</td>\n",
       "    </tr>\n",
       "    <tr>\n",
       "      <th>1</th>\n",
       "      <td>16514</td>\n",
       "      <td>m*uie [PERS] m*uie [PERS] ... m*uie\\nbai kakat...</td>\n",
       "      <td>INSULT</td>\n",
       "      <td>muie muie muie bai kakatule stai banca arbitru...</td>\n",
       "      <td>1</td>\n",
       "    </tr>\n",
       "    <tr>\n",
       "      <th>2</th>\n",
       "      <td>32556</td>\n",
       "      <td>PT ALA CARE ARE TREABA CU [PERS]!!ESTI UNUL CA...</td>\n",
       "      <td>OTHER</td>\n",
       "      <td>pt treaba esti ide fotbal</td>\n",
       "      <td>2</td>\n",
       "    </tr>\n",
       "    <tr>\n",
       "      <th>3</th>\n",
       "      <td>23861</td>\n",
       "      <td>sunt bucuros ca [PERS] nu a mai venit la [ORG]...</td>\n",
       "      <td>OTHER</td>\n",
       "      <td>bucuros venit jucator duzina spere echipa nati...</td>\n",
       "      <td>2</td>\n",
       "    </tr>\n",
       "    <tr>\n",
       "      <th>4</th>\n",
       "      <td>21811</td>\n",
       "      <td>[PERS] esti....PE..N\\n ES..CU..LI..BI.L!!! te ...</td>\n",
       "      <td>INSULT</td>\n",
       "      <td>esti es bi asemeni chiajna parveniti fotbal g...</td>\n",
       "      <td>1</td>\n",
       "    </tr>\n",
       "  </tbody>\n",
       "</table>\n",
       "</div>"
      ],
      "text/plain": [
       "      id                                               text   label  \\\n",
       "0  32674  da de unde stii u mai [ORG] ca banii au fost p...   ABUSE   \n",
       "1  16514  m*uie [PERS] m*uie [PERS] ... m*uie\\nbai kakat...  INSULT   \n",
       "2  32556  PT ALA CARE ARE TREABA CU [PERS]!!ESTI UNUL CA...   OTHER   \n",
       "3  23861  sunt bucuros ca [PERS] nu a mai venit la [ORG]...   OTHER   \n",
       "4  21811  [PERS] esti....PE..N\\n ES..CU..LI..BI.L!!! te ...  INSULT   \n",
       "\n",
       "                                        preprocessed  class  \n",
       "0  sti bani pt pt dulce scumpa bomboana adik pron...      0  \n",
       "1  muie muie muie bai kakatule stai banca arbitru...      1  \n",
       "2                         pt treaba esti ide fotbal       2  \n",
       "3  bucuros venit jucator duzina spere echipa nati...      2  \n",
       "4   esti es bi asemeni chiajna parveniti fotbal g...      1  "
      ]
     },
     "execution_count": 9,
     "metadata": {},
     "output_type": "execute_result"
    }
   ],
   "source": [
    "data[\"class\"] = data[\"label\"].map(lambda x: label_ids[x])\n",
    "data.head(5)"
   ]
  },
  {
   "cell_type": "code",
   "execution_count": 10,
   "metadata": {},
   "outputs": [],
   "source": [
    "MAX_FEATURES = 10000\n",
    "SEQUENCE_LENGTH = 120\n",
    "BATCH_SIZE = 32\n",
    "EMBEDDING_DIM = 400\n",
    "EPOCHS = 5"
   ]
  },
  {
   "cell_type": "code",
   "execution_count": 11,
   "metadata": {},
   "outputs": [],
   "source": [
    "def prepare_dataset(filename):\n",
    "    df = pd.read_csv(filename)\n",
    "    df[\"preprocessed\"] = df[\"text\"].map(preprocess)\n",
    "    df[\"class\"] = df[\"label\"].map(lambda x: label_ids[x])\n",
    "    res_ds = tf.data.Dataset.from_tensor_slices((df[\"preprocessed\"],df[\"class\"])).shuffle(len(df)).batch(BATCH_SIZE)\n",
    "    return res_ds"
   ]
  },
  {
   "cell_type": "code",
   "execution_count": 12,
   "metadata": {},
   "outputs": [
    {
     "name": "stderr",
     "output_type": "stream",
     "text": [
      "2023-02-03 10:27:07.629486: I tensorflow/core/platform/cpu_feature_guard.cc:193] This TensorFlow binary is optimized with oneAPI Deep Neural Network Library (oneDNN) to use the following CPU instructions in performance-critical operations:  AVX2\n",
      "To enable them in other operations, rebuild TensorFlow with the appropriate compiler flags.\n"
     ]
    }
   ],
   "source": [
    "train_ds = prepare_dataset(\"train_ner.csv\")\n",
    "test_ds = prepare_dataset(\"test_ner.csv\")\n",
    "val_ds = prepare_dataset(\"validation_internal_ner.csv\")"
   ]
  },
  {
   "cell_type": "code",
   "execution_count": 13,
   "metadata": {},
   "outputs": [],
   "source": [
    "texts = train_ds.map(lambda x,y:x)\n",
    "vectorizer = tf.keras.layers.TextVectorization(\n",
    "    max_tokens=MAX_FEATURES,\n",
    "    output_mode=\"int\",\n",
    "    output_sequence_length=SEQUENCE_LENGTH,\n",
    "    standardize=None,\n",
    "    split=\"whitespace\",\n",
    ")\n",
    "vectorizer.adapt(texts)"
   ]
  },
  {
   "cell_type": "code",
   "execution_count": 26,
   "metadata": {},
   "outputs": [],
   "source": [
    "input = tf.keras.Input(shape=(),dtype=tf.string)\n",
    "tokens = vectorizer(input)\n",
    "embed_layer = tf.keras.layers.Embedding(\n",
    "    input_dim=MAX_FEATURES,\n",
    "    output_dim=EMBEDDING_DIM,\n",
    "    mask_zero=True\n",
    ")\n",
    "embeds = embed_layer(tokens)\n",
    "rnn_layer = tf.keras.layers.Bidirectional(\n",
    "    tf.keras.layers.LSTM(\n",
    "        units=50,\n",
    "        return_sequences=True\n",
    "    ),\n",
    "    merge_mode=\"ave\"\n",
    ")\n",
    "rnn_layer2 = tf.keras.layers.Bidirectional(\n",
    "    tf.keras.layers.LSTM(\n",
    "        units=10\n",
    "    ),\n",
    "    merge_mode=\"ave\"\n",
    ")\n",
    "\n",
    "h = rnn_layer(embeds)\n",
    "h = rnn_layer2(h)\n",
    "fc1 = tf.keras.layers.Dense(10,activation=\"relu\")\n",
    "fc2 = tf.keras.layers.Dense(len(label_ids))\n",
    "\n",
    "h = fc1(h)\n",
    "h = tf.keras.layers.Dropout(0.2)(h)\n",
    "output = fc2(h)\n",
    "\n",
    "model = tf.keras.Model(inputs=input,outputs=output)"
   ]
  },
  {
   "cell_type": "code",
   "execution_count": 27,
   "metadata": {},
   "outputs": [],
   "source": [
    "model.compile(\n",
    "    optimizer=\"adam\",\n",
    "    loss=tf.keras.losses.SparseCategoricalCrossentropy(from_logits=True),\n",
    "    metrics=[tf.keras.metrics.SparseCategoricalAccuracy()]\n",
    ")"
   ]
  },
  {
   "cell_type": "code",
   "execution_count": 28,
   "metadata": {},
   "outputs": [
    {
     "name": "stdout",
     "output_type": "stream",
     "text": [
      "Epoch 1/5\n",
      "312/312 [==============================] - 107s 295ms/step - loss: 1.1439 - sparse_categorical_accuracy: 0.4981 - val_loss: 0.7554 - val_sparse_categorical_accuracy: 0.7529\n",
      "Epoch 2/5\n",
      "312/312 [==============================] - 80s 256ms/step - loss: 0.7333 - sparse_categorical_accuracy: 0.7243 - val_loss: 0.4520 - val_sparse_categorical_accuracy: 0.8780\n",
      "Epoch 3/5\n",
      "312/312 [==============================] - 79s 254ms/step - loss: 0.4914 - sparse_categorical_accuracy: 0.8334 - val_loss: 0.2570 - val_sparse_categorical_accuracy: 0.9342\n",
      "Epoch 4/5\n",
      "312/312 [==============================] - 78s 251ms/step - loss: 0.3273 - sparse_categorical_accuracy: 0.9018 - val_loss: 0.1414 - val_sparse_categorical_accuracy: 0.9684\n",
      "Epoch 5/5\n",
      "312/312 [==============================] - 83s 267ms/step - loss: 0.2121 - sparse_categorical_accuracy: 0.9398 - val_loss: 0.0955 - val_sparse_categorical_accuracy: 0.9759\n"
     ]
    },
    {
     "data": {
      "text/plain": [
       "<keras.callbacks.History at 0x7fa4e2ac8cd0>"
      ]
     },
     "execution_count": 28,
     "metadata": {},
     "output_type": "execute_result"
    }
   ],
   "source": [
    "model.fit(x=train_ds, epochs=5, validation_data=val_ds)"
   ]
  },
  {
   "cell_type": "code",
   "execution_count": 29,
   "metadata": {},
   "outputs": [
    {
     "name": "stdout",
     "output_type": "stream",
     "text": [
      "78/78 [==============================] - 5s 67ms/step - loss: 1.2411 - sparse_categorical_accuracy: 0.6922\n"
     ]
    },
    {
     "data": {
      "text/plain": [
       "[1.241100788116455, 0.692215085029602]"
      ]
     },
     "execution_count": 29,
     "metadata": {},
     "output_type": "execute_result"
    }
   ],
   "source": [
    "model.evaluate(test_ds)"
   ]
  },
  {
   "cell_type": "code",
   "execution_count": null,
   "metadata": {},
   "outputs": [],
   "source": []
  }
 ],
 "metadata": {
  "kernelspec": {
   "display_name": "SSL-B1obpiFk",
   "language": "python",
   "name": "python3"
  },
  "language_info": {
   "codemirror_mode": {
    "name": "ipython",
    "version": 3
   },
   "file_extension": ".py",
   "mimetype": "text/x-python",
   "name": "python",
   "nbconvert_exporter": "python",
   "pygments_lexer": "ipython3",
   "version": "3.8.13"
  },
  "orig_nbformat": 4,
  "vscode": {
   "interpreter": {
    "hash": "70e39be6300d000f9473f64536cb1e7c9d53513440d7b9f4fccd110a5867e5cd"
   }
  }
 },
 "nbformat": 4,
 "nbformat_minor": 2
}
